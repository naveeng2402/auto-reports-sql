{
 "cells": [
  {
   "cell_type": "code",
   "execution_count": 1,
   "metadata": {},
   "outputs": [],
   "source": [
    "cols = [\"*\", \"name\", \"name, salary\"]\n",
    "table =\"Person\"\n",
    "where = [\"salary > 25000\", \"salary < 25000\"]\n",
    "# where = [\"\"]\n",
    "order_by =[\"name\", \"salary\", \"name, salary\"]\n",
    "# order_by = [\"\"]"
   ]
  },
  {
   "cell_type": "code",
   "execution_count": 2,
   "metadata": {},
   "outputs": [],
   "source": [
    "import itertools\n",
    "import json"
   ]
  },
  {
   "cell_type": "code",
   "execution_count": 3,
   "metadata": {},
   "outputs": [
    {
     "data": {
      "text/plain": [
       "(('*', 'Person'), ('name', 'Person'), ('name, salary', 'Person'))"
      ]
     },
     "execution_count": 3,
     "metadata": {},
     "output_type": "execute_result"
    }
   ],
   "source": [
    "tuple(itertools.product(cols, (table,)))"
   ]
  },
  {
   "cell_type": "code",
   "execution_count": 4,
   "metadata": {},
   "outputs": [
    {
     "data": {
      "text/plain": [
       "['select * from Person ',\n",
       " 'select name from Person ',\n",
       " 'select name, salary from Person ']"
      ]
     },
     "execution_count": 4,
     "metadata": {},
     "output_type": "execute_result"
    }
   ],
   "source": [
    "base_q = [f\"select {cols} from {tbl} \" for cols, tbl in itertools.product(cols, (table,))]\n",
    "base_q"
   ]
  },
  {
   "cell_type": "code",
   "execution_count": 5,
   "metadata": {},
   "outputs": [
    {
     "data": {
      "text/plain": [
       "(('select * from Person ', 'salary > 25000', 'name'),\n",
       " ('select * from Person ', 'salary > 25000', 'salary'),\n",
       " ('select * from Person ', 'salary > 25000', 'name, salary'),\n",
       " ('select * from Person ', 'salary < 25000', 'name'),\n",
       " ('select * from Person ', 'salary < 25000', 'salary'),\n",
       " ('select * from Person ', 'salary < 25000', 'name, salary'),\n",
       " ('select name from Person ', 'salary > 25000', 'name'),\n",
       " ('select name from Person ', 'salary > 25000', 'salary'),\n",
       " ('select name from Person ', 'salary > 25000', 'name, salary'),\n",
       " ('select name from Person ', 'salary < 25000', 'name'),\n",
       " ('select name from Person ', 'salary < 25000', 'salary'),\n",
       " ('select name from Person ', 'salary < 25000', 'name, salary'),\n",
       " ('select name, salary from Person ', 'salary > 25000', 'name'),\n",
       " ('select name, salary from Person ', 'salary > 25000', 'salary'),\n",
       " ('select name, salary from Person ', 'salary > 25000', 'name, salary'),\n",
       " ('select name, salary from Person ', 'salary < 25000', 'name'),\n",
       " ('select name, salary from Person ', 'salary < 25000', 'salary'),\n",
       " ('select name, salary from Person ', 'salary < 25000', 'name, salary'))"
      ]
     },
     "execution_count": 5,
     "metadata": {},
     "output_type": "execute_result"
    }
   ],
   "source": [
    "tuple(itertools.product(base_q, where, order_by))"
   ]
  },
  {
   "cell_type": "code",
   "execution_count": 6,
   "metadata": {},
   "outputs": [
    {
     "data": {
      "text/plain": [
       "(36,\n",
       " ('select * from Person  where salary < 25000 order by name asc;',\n",
       "  'select name, salary from Person  where salary < 25000 order by salary asc;',\n",
       "  'select name from Person  where salary < 25000 order by name asc;',\n",
       "  'select * from Person  where salary < 25000 order by name, salary asc;',\n",
       "  'select * from Person  where salary > 25000 order by salary asc;',\n",
       "  'select name from Person  where salary < 25000 order by salary asc;',\n",
       "  'select * from Person  where salary > 25000 order by name, salary asc;',\n",
       "  'select name from Person  where salary > 25000 order by name, salary desc;',\n",
       "  'select name from Person  where salary < 25000 order by name, salary asc;',\n",
       "  'select name, salary from Person  where salary > 25000 order by name desc;',\n",
       "  'select name, salary from Person  where salary > 25000 order by salary asc;',\n",
       "  'select name, salary from Person  where salary < 25000 order by name, salary desc;',\n",
       "  'select name, salary from Person  where salary < 25000 order by name asc;',\n",
       "  'select name from Person  where salary > 25000 order by name asc;',\n",
       "  'select name from Person  where salary < 25000 order by name, salary desc;',\n",
       "  'select name from Person  where salary > 25000 order by name, salary asc;',\n",
       "  'select * from Person  where salary > 25000 order by name, salary desc;',\n",
       "  'select name, salary from Person  where salary > 25000 order by name asc;',\n",
       "  'select name from Person  where salary > 25000 order by salary asc;',\n",
       "  'select * from Person  where salary > 25000 order by name desc;',\n",
       "  'select name, salary from Person  where salary < 25000 order by name, salary asc;',\n",
       "  'select * from Person  where salary < 25000 order by name desc;',\n",
       "  'select name, salary from Person  where salary > 25000 order by name, salary desc;',\n",
       "  'select * from Person  where salary < 25000 order by name, salary desc;',\n",
       "  'select name, salary from Person  where salary > 25000 order by salary desc;',\n",
       "  'select name from Person  where salary > 25000 order by salary desc;',\n",
       "  'select name, salary from Person  where salary < 25000 order by name desc;',\n",
       "  'select * from Person  where salary < 25000 order by salary desc;',\n",
       "  'select * from Person  where salary > 25000 order by name asc;',\n",
       "  'select * from Person  where salary > 25000 order by salary desc;',\n",
       "  'select name from Person  where salary < 25000 order by salary desc;',\n",
       "  'select name from Person  where salary > 25000 order by name desc;',\n",
       "  'select * from Person  where salary < 25000 order by salary asc;',\n",
       "  'select name from Person  where salary < 25000 order by name desc;',\n",
       "  'select name, salary from Person  where salary < 25000 order by salary desc;',\n",
       "  'select name, salary from Person  where salary > 25000 order by name, salary asc;'))"
      ]
     },
     "execution_count": 6,
     "metadata": {},
     "output_type": "execute_result"
    }
   ],
   "source": [
    "q = []\n",
    "for base_res, where_res, order_res in itertools.product(base_q, where, order_by):\n",
    "    q.extend([f\"{base_res} {f'where {where_res}' if where_res else ''} {f'order by {order_res} {order_type}' if order_res else ''};\" for order_type in (\"asc\", \"desc\") ])\n",
    "q = tuple(set(q))\n",
    "len(q), q"
   ]
  }
 ],
 "metadata": {
  "kernelspec": {
   "display_name": "Python 3.10.6 ('env': venv)",
   "language": "python",
   "name": "python3"
  },
  "language_info": {
   "codemirror_mode": {
    "name": "ipython",
    "version": 3
   },
   "file_extension": ".py",
   "mimetype": "text/x-python",
   "name": "python",
   "nbconvert_exporter": "python",
   "pygments_lexer": "ipython3",
   "version": "3.10.6"
  },
  "orig_nbformat": 4,
  "vscode": {
   "interpreter": {
    "hash": "6e6d204f3b4af62bce6b6fa1e6b786799364b75c11eaeb5e86a925078e339c86"
   }
  }
 },
 "nbformat": 4,
 "nbformat_minor": 2
}
